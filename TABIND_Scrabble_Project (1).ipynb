{
 "cells": [
  {
   "cell_type": "code",
   "execution_count": null,
   "id": "6e34fe00-3f91-4af4-b4c2-2a09337f2b28",
   "metadata": {},
   "outputs": [],
   "source": [
    "#*****************************************************************************************\n",
    "# FILE: TABIND_Scrabble_Project                                                          #\n",
    "#                                                                                        #\n",
    "# DESCRIPTION: The objective of this project is to develop a program that takes the      #\n",
    "# letter combination the user puts in like \"TABIND\" and creates an alphabetical list     #\n",
    "# of all the words that can be found with those letters.                                 #\n",
    "#                                                                                        #\n",
    "# DEVELOPER: Zenghao Tao                                                                 #\n",
    "# DEVELOPER PHONE: +1(626)677-6020                                                       #\n",
    "# DEVELOPER EMAIL: zeng628hao@gmail.com                                                  #\n",
    "#                                                                                        #\n",
    "# VERSION: 1.0                                                                           #\n",
    "# CREATED DATE-TIME: 20241127-12:00 PACIFIC STANDARD TIME                                #\n",
    "#                                                                                        #\n",
    "#*****************************************************************************************"
   ]
  },
  {
   "cell_type": "code",
   "execution_count": 48,
   "id": "a051303b-fdc1-4a48-b5d4-1f606886e521",
   "metadata": {},
   "outputs": [],
   "source": [
    "#itertools used for permutation of letters\n",
    "import itertools\n",
    "from english_words import get_english_words_set\n",
    "\n",
    "#English words\n",
    "from english_words import get_english_words_set"
   ]
  },
  {
   "cell_type": "code",
   "execution_count": 50,
   "id": "768fc88a-87c4-4396-8d9c-d5491bd8b08d",
   "metadata": {},
   "outputs": [],
   "source": [
    "def find_words(letters):\n",
    "    # Generate all unique permutations\n",
    "    all_combinations = set(\n",
    "        ''.join(perm)\n",
    "        for i in range(1, len(letters) + 1)\n",
    "        for perm in itertools.permutations(letters, i)\n",
    "    )\n",
    "    \n",
    "    # Get the English words set with sources argument\n",
    "    english_words_set = get_english_words_set(['web2'])\n",
    "\n",
    "    # Filter valid words using the set\n",
    "    valid_words = sorted(\n",
    "        word for word in all_combinations \n",
    "        if word in english_words_set and (len(word) >= 2 or word in ['a', 'i'])\n",
    "    )\n",
    "    return valid_words\n"
   ]
  },
  {
   "cell_type": "code",
   "execution_count": 52,
   "id": "0e31ad37-b493-4a1d-9d50-c6e1e0a96f26",
   "metadata": {},
   "outputs": [
    {
     "name": "stdin",
     "output_type": "stream",
     "text": [
      "put in letters:  tabind\n"
     ]
    }
   ],
   "source": [
    "#Ask for user input\n",
    "letters = input('put in letters: ')\n",
    "#letters = 'tabind'\n",
    "\n",
    "\n",
    "\n",
    "# Find valid words\n",
    "result = find_words(letters)\n",
    "\n",
    "# Print the results"
   ]
  },
  {
   "cell_type": "code",
   "execution_count": 56,
   "id": "179fd0fc-7d52-4149-9791-c0f2da01bf03",
   "metadata": {},
   "outputs": [],
   "source": [
    "from spellchecker import SpellChecker\n",
    "\n",
    "spell = SpellChecker()\n",
    "\n",
    "# find those words that may be misspelled\n",
    "misspelled = spell.unknown(result)\n",
    "\n",
    "for word in misspelled:\n",
    "    # Get the one `most likely` answer\n",
    "    print(word)\n",
    "\n",
    "for x in list(result):\n",
    "    if x in misspelled:\n",
    "        result.remove(x)"
   ]
  },
  {
   "cell_type": "code",
   "execution_count": 58,
   "id": "542b96b0-1b81-47d0-bf68-97c595a6c291",
   "metadata": {},
   "outputs": [
    {
     "name": "stdout",
     "output_type": "stream",
     "text": [
      "Words found:\n",
      "a\n",
      "ad\n",
      "adit\n",
      "ai\n",
      "aid\n",
      "ait\n",
      "an\n",
      "and\n",
      "ani\n",
      "ant\n",
      "anti\n",
      "at\n",
      "bad\n",
      "bait\n",
      "ban\n",
      "band\n",
      "bandit\n",
      "bani\n",
      "bant\n",
      "bat\n",
      "bid\n",
      "bin\n",
      "bind\n",
      "bit\n",
      "dab\n",
      "dib\n",
      "din\n",
      "dint\n",
      "dit\n",
      "i\n",
      "id\n",
      "in\n",
      "it\n",
      "nab\n",
      "nib\n",
      "nit\n",
      "ta\n",
      "tab\n",
      "tad\n",
      "tain\n",
      "tan\n",
      "ti\n",
      "tin\n"
     ]
    }
   ],
   "source": [
    "print(\"Words found:\")\n",
    "print(\"\\n\".join(result) if result else \"No valid words found.\")"
   ]
  },
  {
   "cell_type": "code",
   "execution_count": 60,
   "id": "8b8d8679-911f-4e24-8c4e-8ae6eea144a9",
   "metadata": {},
   "outputs": [
    {
     "ename": "NameError",
     "evalue": "name 'count' is not defined",
     "output_type": "error",
     "traceback": [
      "\u001b[0;31m---------------------------------------------------------------------------\u001b[0m",
      "\u001b[0;31mNameError\u001b[0m                                 Traceback (most recent call last)",
      "Cell \u001b[0;32mIn[60], line 1\u001b[0m\n\u001b[0;32m----> 1\u001b[0m count(result)\n",
      "\u001b[0;31mNameError\u001b[0m: name 'count' is not defined"
     ]
    }
   ],
   "source": [
    "count(result)"
   ]
  },
  {
   "cell_type": "code",
   "execution_count": null,
   "id": "df749a78-1798-49f8-a7dc-6d8a95d8e3a5",
   "metadata": {},
   "outputs": [],
   "source": []
  }
 ],
 "metadata": {
  "kernelspec": {
   "display_name": "Python 3 (ipykernel)",
   "language": "python",
   "name": "python3"
  },
  "language_info": {
   "codemirror_mode": {
    "name": "ipython",
    "version": 3
   },
   "file_extension": ".py",
   "mimetype": "text/x-python",
   "name": "python",
   "nbconvert_exporter": "python",
   "pygments_lexer": "ipython3",
   "version": "3.11.7"
  }
 },
 "nbformat": 4,
 "nbformat_minor": 5
}
